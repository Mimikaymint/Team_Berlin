{
 "cells": [
  {
   "cell_type": "code",
   "execution_count": 19,
   "metadata": {},
   "outputs": [],
   "source": [
    "import pandas as pd\n",
    "import numpy as np\n",
    "import seaborn as sns\n",
    "import matplotlib.pyplot as plt\n",
    "from sklearn.model_selection import train_test_split\n",
    "from sklearn.preprocessing import StandardScaler, OneHotEncoder\n",
    "from sklearn.compose import ColumnTransformer\n",
    "from sklearn.pipeline import Pipeline\n",
    "from sklearn.impute import SimpleImputer\n",
    "from sklearn.ensemble import RandomForestRegressor\n",
    "from sklearn.metrics import mean_squared_error\n",
    "import logging\n",
    "from sklearn.model_selection import KFold\n",
    "from sklearn.preprocessing import StandardScaler\n",
    "from scipy import stats\n",
    "from sklearn import preprocessing\n",
    "import matplotlib.pyplot as plt\n",
    "import seaborn as sns\n",
    "\n",
    "flu_df = pd.read_csv('/Users/serenakwakye-mintah/training_set_features.csv') \n",
    "flu_df2 = pd.read_csv('/Users/serenakwakye-mintah/training_set_labels.csv') "
   ]
  },
  {
   "cell_type": "code",
   "execution_count": null,
   "metadata": {},
   "outputs": [],
   "source": [
    "flu_df = pd.merge(flu_df, flu_df2, on='respondent_id', how='outer')\n",
    "flu_df "
   ]
  },
  {
   "cell_type": "code",
   "execution_count": 8,
   "metadata": {},
   "outputs": [
    {
     "name": "stdout",
     "output_type": "stream",
     "text": [
      "(26707, 36)\n",
      "       respondent_id  h1n1_concern  h1n1_knowledge  behavioral_antiviral_meds  \\\n",
      "count   26707.000000  26615.000000    26591.000000               26636.000000   \n",
      "mean    13353.000000      1.618486        1.262532                   0.048844   \n",
      "std      7709.791156      0.910311        0.618149                   0.215545   \n",
      "min         0.000000      0.000000        0.000000                   0.000000   \n",
      "25%      6676.500000      1.000000        1.000000                   0.000000   \n",
      "50%     13353.000000      2.000000        1.000000                   0.000000   \n",
      "75%     20029.500000      2.000000        2.000000                   0.000000   \n",
      "max     26706.000000      3.000000        2.000000                   1.000000   \n",
      "\n",
      "       behavioral_avoidance  behavioral_face_mask  behavioral_wash_hands  \\\n",
      "count          26499.000000          26688.000000           26665.000000   \n",
      "mean               0.725612              0.068982               0.825614   \n",
      "std                0.446214              0.253429               0.379448   \n",
      "min                0.000000              0.000000               0.000000   \n",
      "25%                0.000000              0.000000               1.000000   \n",
      "50%                1.000000              0.000000               1.000000   \n",
      "75%                1.000000              0.000000               1.000000   \n",
      "max                1.000000              1.000000               1.000000   \n",
      "\n",
      "       behavioral_large_gatherings  behavioral_outside_home  \\\n",
      "count                  26620.00000             26625.000000   \n",
      "mean                       0.35864                 0.337315   \n",
      "std                        0.47961                 0.472802   \n",
      "min                        0.00000                 0.000000   \n",
      "25%                        0.00000                 0.000000   \n",
      "50%                        0.00000                 0.000000   \n",
      "75%                        1.00000                 1.000000   \n",
      "max                        1.00000                 1.000000   \n",
      "\n",
      "       behavioral_touch_face  ...  health_worker  health_insurance  \\\n",
      "count           26579.000000  ...   25903.000000       14433.00000   \n",
      "mean                0.677264  ...       0.111918           0.87972   \n",
      "std                 0.467531  ...       0.315271           0.32530   \n",
      "min                 0.000000  ...       0.000000           0.00000   \n",
      "25%                 0.000000  ...       0.000000           1.00000   \n",
      "50%                 1.000000  ...       0.000000           1.00000   \n",
      "75%                 1.000000  ...       0.000000           1.00000   \n",
      "max                 1.000000  ...       1.000000           1.00000   \n",
      "\n",
      "       opinion_h1n1_vacc_effective  opinion_h1n1_risk  \\\n",
      "count                 26316.000000       26319.000000   \n",
      "mean                      3.850623           2.342566   \n",
      "std                       1.007436           1.285539   \n",
      "min                       1.000000           1.000000   \n",
      "25%                       3.000000           1.000000   \n",
      "50%                       4.000000           2.000000   \n",
      "75%                       5.000000           4.000000   \n",
      "max                       5.000000           5.000000   \n",
      "\n",
      "       opinion_h1n1_sick_from_vacc  opinion_seas_vacc_effective  \\\n",
      "count                 26312.000000                 26245.000000   \n",
      "mean                      2.357670                     4.025986   \n",
      "std                       1.362766                     1.086565   \n",
      "min                       1.000000                     1.000000   \n",
      "25%                       1.000000                     4.000000   \n",
      "50%                       2.000000                     4.000000   \n",
      "75%                       4.000000                     5.000000   \n",
      "max                       5.000000                     5.000000   \n",
      "\n",
      "       opinion_seas_risk  opinion_seas_sick_from_vacc  household_adults  \\\n",
      "count       26193.000000                 26170.000000      26458.000000   \n",
      "mean            2.719162                     2.118112          0.886499   \n",
      "std             1.385055                     1.332950          0.753422   \n",
      "min             1.000000                     1.000000          0.000000   \n",
      "25%             2.000000                     1.000000          0.000000   \n",
      "50%             2.000000                     2.000000          1.000000   \n",
      "75%             4.000000                     4.000000          1.000000   \n",
      "max             5.000000                     5.000000          3.000000   \n",
      "\n",
      "       household_children  \n",
      "count        26458.000000  \n",
      "mean             0.534583  \n",
      "std              0.928173  \n",
      "min              0.000000  \n",
      "25%              0.000000  \n",
      "50%              0.000000  \n",
      "75%              1.000000  \n",
      "max              3.000000  \n",
      "\n",
      "[8 rows x 24 columns]\n",
      "True\n"
     ]
    }
   ],
   "source": [
    "print(flu_df.shape)\n",
    "print(flu_df.describe())\n",
    "print(flu_df.isnull().values.any())\n"
   ]
  },
  {
   "cell_type": "code",
   "execution_count": null,
   "metadata": {},
   "outputs": [],
   "source": [
    "flu_df"
   ]
  },
  {
   "cell_type": "code",
   "execution_count": 15,
   "metadata": {},
   "outputs": [
    {
     "name": "stdout",
     "output_type": "stream",
     "text": [
      "Numerical columns: Index(['respondent_id', 'h1n1_concern', 'h1n1_knowledge',\n",
      "       'behavioral_antiviral_meds', 'behavioral_avoidance',\n",
      "       'behavioral_face_mask', 'behavioral_wash_hands',\n",
      "       'behavioral_large_gatherings', 'behavioral_outside_home',\n",
      "       'behavioral_touch_face', 'doctor_recc_h1n1', 'doctor_recc_seasonal',\n",
      "       'chronic_med_condition', 'child_under_6_months', 'health_worker',\n",
      "       'health_insurance', 'opinion_h1n1_vacc_effective', 'opinion_h1n1_risk',\n",
      "       'opinion_h1n1_sick_from_vacc', 'opinion_seas_vacc_effective',\n",
      "       'opinion_seas_risk', 'opinion_seas_sick_from_vacc', 'household_adults',\n",
      "       'household_children'],\n",
      "      dtype='object')\n",
      "       respondent_id  h1n1_concern  h1n1_knowledge  behavioral_antiviral_meds  \\\n",
      "count   26707.000000  26615.000000    26591.000000               26636.000000   \n",
      "mean    13353.000000      1.618486        1.262532                   0.048844   \n",
      "std      7709.791156      0.910311        0.618149                   0.215545   \n",
      "min         0.000000      0.000000        0.000000                   0.000000   \n",
      "25%      6676.500000      1.000000        1.000000                   0.000000   \n",
      "50%     13353.000000      2.000000        1.000000                   0.000000   \n",
      "75%     20029.500000      2.000000        2.000000                   0.000000   \n",
      "max     26706.000000      3.000000        2.000000                   1.000000   \n",
      "\n",
      "       behavioral_avoidance  behavioral_face_mask  behavioral_wash_hands  \\\n",
      "count          26499.000000          26688.000000           26665.000000   \n",
      "mean               0.725612              0.068982               0.825614   \n",
      "std                0.446214              0.253429               0.379448   \n",
      "min                0.000000              0.000000               0.000000   \n",
      "25%                0.000000              0.000000               1.000000   \n",
      "50%                1.000000              0.000000               1.000000   \n",
      "75%                1.000000              0.000000               1.000000   \n",
      "max                1.000000              1.000000               1.000000   \n",
      "\n",
      "       behavioral_large_gatherings  behavioral_outside_home  \\\n",
      "count                  26620.00000             26625.000000   \n",
      "mean                       0.35864                 0.337315   \n",
      "std                        0.47961                 0.472802   \n",
      "min                        0.00000                 0.000000   \n",
      "25%                        0.00000                 0.000000   \n",
      "50%                        0.00000                 0.000000   \n",
      "75%                        1.00000                 1.000000   \n",
      "max                        1.00000                 1.000000   \n",
      "\n",
      "       behavioral_touch_face  ...  health_worker  health_insurance  \\\n",
      "count           26579.000000  ...   25903.000000       14433.00000   \n",
      "mean                0.677264  ...       0.111918           0.87972   \n",
      "std                 0.467531  ...       0.315271           0.32530   \n",
      "min                 0.000000  ...       0.000000           0.00000   \n",
      "25%                 0.000000  ...       0.000000           1.00000   \n",
      "50%                 1.000000  ...       0.000000           1.00000   \n",
      "75%                 1.000000  ...       0.000000           1.00000   \n",
      "max                 1.000000  ...       1.000000           1.00000   \n",
      "\n",
      "       opinion_h1n1_vacc_effective  opinion_h1n1_risk  \\\n",
      "count                 26316.000000       26319.000000   \n",
      "mean                      3.850623           2.342566   \n",
      "std                       1.007436           1.285539   \n",
      "min                       1.000000           1.000000   \n",
      "25%                       3.000000           1.000000   \n",
      "50%                       4.000000           2.000000   \n",
      "75%                       5.000000           4.000000   \n",
      "max                       5.000000           5.000000   \n",
      "\n",
      "       opinion_h1n1_sick_from_vacc  opinion_seas_vacc_effective  \\\n",
      "count                 26312.000000                 26245.000000   \n",
      "mean                      2.357670                     4.025986   \n",
      "std                       1.362766                     1.086565   \n",
      "min                       1.000000                     1.000000   \n",
      "25%                       1.000000                     4.000000   \n",
      "50%                       2.000000                     4.000000   \n",
      "75%                       4.000000                     5.000000   \n",
      "max                       5.000000                     5.000000   \n",
      "\n",
      "       opinion_seas_risk  opinion_seas_sick_from_vacc  household_adults  \\\n",
      "count       26193.000000                 26170.000000      26458.000000   \n",
      "mean            2.719162                     2.118112          0.886499   \n",
      "std             1.385055                     1.332950          0.753422   \n",
      "min             1.000000                     1.000000          0.000000   \n",
      "25%             2.000000                     1.000000          0.000000   \n",
      "50%             2.000000                     2.000000          1.000000   \n",
      "75%             4.000000                     4.000000          1.000000   \n",
      "max             5.000000                     5.000000          3.000000   \n",
      "\n",
      "       household_children  \n",
      "count        26458.000000  \n",
      "mean             0.534583  \n",
      "std              0.928173  \n",
      "min              0.000000  \n",
      "25%              0.000000  \n",
      "50%              0.000000  \n",
      "75%              1.000000  \n",
      "max              3.000000  \n",
      "\n",
      "[8 rows x 24 columns]\n"
     ]
    }
   ],
   "source": [
    "num_cols = flu_df.select_dtypes(include=['number']).columns\n",
    "print(\"Numerical columns:\", num_cols)\n",
    "\n",
    "num = flu_df.select_dtypes(include=['number'])\n",
    "summary_stats = num.describe()\n",
    "print(summary_stats)"
   ]
  },
  {
   "cell_type": "code",
   "execution_count": 16,
   "metadata": {},
   "outputs": [
    {
     "name": "stdout",
     "output_type": "stream",
     "text": [
      "Index(['respondent_id', 'h1n1_concern', 'h1n1_knowledge',\n",
      "       'behavioral_antiviral_meds', 'behavioral_avoidance',\n",
      "       'behavioral_face_mask', 'behavioral_wash_hands',\n",
      "       'behavioral_large_gatherings', 'behavioral_outside_home',\n",
      "       'behavioral_touch_face', 'doctor_recc_h1n1', 'doctor_recc_seasonal',\n",
      "       'chronic_med_condition', 'child_under_6_months', 'health_worker',\n",
      "       'health_insurance', 'opinion_h1n1_vacc_effective', 'opinion_h1n1_risk',\n",
      "       'opinion_h1n1_sick_from_vacc', 'opinion_seas_vacc_effective',\n",
      "       'opinion_seas_risk', 'opinion_seas_sick_from_vacc', 'age_group',\n",
      "       'education', 'race', 'sex', 'income_poverty', 'marital_status',\n",
      "       'rent_or_own', 'employment_status', 'hhs_geo_region', 'census_msa',\n",
      "       'household_adults', 'household_children', 'employment_industry',\n",
      "       'employment_occupation'],\n",
      "      dtype='object')\n"
     ]
    }
   ],
   "source": [
    "print(flu_df.columns)\n"
   ]
  },
  {
   "cell_type": "code",
   "execution_count": 17,
   "metadata": {},
   "outputs": [
    {
     "data": {
      "text/plain": [
       "<bound method DataFrame.info of        respondent_id  h1n1_concern  h1n1_knowledge  behavioral_antiviral_meds  \\\n",
       "0                  0           1.0             0.0                        0.0   \n",
       "1                  1           3.0             2.0                        0.0   \n",
       "2                  2           1.0             1.0                        0.0   \n",
       "3                  3           1.0             1.0                        0.0   \n",
       "4                  4           2.0             1.0                        0.0   \n",
       "...              ...           ...             ...                        ...   \n",
       "26702          26702           2.0             0.0                        0.0   \n",
       "26703          26703           1.0             2.0                        0.0   \n",
       "26704          26704           2.0             2.0                        0.0   \n",
       "26705          26705           1.0             1.0                        0.0   \n",
       "26706          26706           0.0             0.0                        0.0   \n",
       "\n",
       "       behavioral_avoidance  behavioral_face_mask  behavioral_wash_hands  \\\n",
       "0                       0.0                   0.0                    0.0   \n",
       "1                       1.0                   0.0                    1.0   \n",
       "2                       1.0                   0.0                    0.0   \n",
       "3                       1.0                   0.0                    1.0   \n",
       "4                       1.0                   0.0                    1.0   \n",
       "...                     ...                   ...                    ...   \n",
       "26702                   1.0                   0.0                    0.0   \n",
       "26703                   1.0                   0.0                    1.0   \n",
       "26704                   1.0                   1.0                    1.0   \n",
       "26705                   0.0                   0.0                    0.0   \n",
       "26706                   1.0                   0.0                    0.0   \n",
       "\n",
       "       behavioral_large_gatherings  behavioral_outside_home  \\\n",
       "0                              0.0                      1.0   \n",
       "1                              0.0                      1.0   \n",
       "2                              0.0                      0.0   \n",
       "3                              1.0                      0.0   \n",
       "4                              1.0                      0.0   \n",
       "...                            ...                      ...   \n",
       "26702                          0.0                      1.0   \n",
       "26703                          0.0                      0.0   \n",
       "26704                          1.0                      0.0   \n",
       "26705                          0.0                      0.0   \n",
       "26706                          0.0                      0.0   \n",
       "\n",
       "       behavioral_touch_face  ...             income_poverty  marital_status  \\\n",
       "0                        1.0  ...              Below Poverty     Not Married   \n",
       "1                        1.0  ...              Below Poverty     Not Married   \n",
       "2                        0.0  ...  <= $75,000, Above Poverty     Not Married   \n",
       "3                        0.0  ...              Below Poverty     Not Married   \n",
       "4                        1.0  ...  <= $75,000, Above Poverty         Married   \n",
       "...                      ...  ...                        ...             ...   \n",
       "26702                    0.0  ...  <= $75,000, Above Poverty     Not Married   \n",
       "26703                    0.0  ...  <= $75,000, Above Poverty     Not Married   \n",
       "26704                    1.0  ...                        NaN     Not Married   \n",
       "26705                    NaN  ...  <= $75,000, Above Poverty         Married   \n",
       "26706                    0.0  ...  <= $75,000, Above Poverty         Married   \n",
       "\n",
       "       rent_or_own   employment_status  hhs_geo_region  \\\n",
       "0              Own  Not in Labor Force        oxchjgsf   \n",
       "1             Rent            Employed        bhuqouqj   \n",
       "2              Own            Employed        qufhixun   \n",
       "3             Rent  Not in Labor Force        lrircsnp   \n",
       "4              Own            Employed        qufhixun   \n",
       "...            ...                 ...             ...   \n",
       "26702          Own  Not in Labor Force        qufhixun   \n",
       "26703         Rent            Employed        lzgpxyit   \n",
       "26704          Own                 NaN        lzgpxyit   \n",
       "26705         Rent            Employed        lrircsnp   \n",
       "26706          Own  Not in Labor Force        mlyzmhmf   \n",
       "\n",
       "                     census_msa  household_adults  household_children  \\\n",
       "0                       Non-MSA               0.0                 0.0   \n",
       "1      MSA, Not Principle  City               0.0                 0.0   \n",
       "2      MSA, Not Principle  City               2.0                 0.0   \n",
       "3           MSA, Principle City               0.0                 0.0   \n",
       "4      MSA, Not Principle  City               1.0                 0.0   \n",
       "...                         ...               ...                 ...   \n",
       "26702                   Non-MSA               0.0                 0.0   \n",
       "26703       MSA, Principle City               1.0                 0.0   \n",
       "26704  MSA, Not Principle  City               0.0                 0.0   \n",
       "26705                   Non-MSA               1.0                 0.0   \n",
       "26706       MSA, Principle City               1.0                 0.0   \n",
       "\n",
       "       employment_industry  employment_occupation  \n",
       "0                      NaN                    NaN  \n",
       "1                 pxcmvdjn               xgwztkwe  \n",
       "2                 rucpziij               xtkaffoo  \n",
       "3                      NaN                    NaN  \n",
       "4                 wxleyezf               emcorrxb  \n",
       "...                    ...                    ...  \n",
       "26702                  NaN                    NaN  \n",
       "26703             fcxhlnwr               cmhcxjea  \n",
       "26704                  NaN                    NaN  \n",
       "26705             fcxhlnwr               haliazsg  \n",
       "26706                  NaN                    NaN  \n",
       "\n",
       "[26707 rows x 36 columns]>"
      ]
     },
     "execution_count": 17,
     "metadata": {},
     "output_type": "execute_result"
    }
   ],
   "source": [
    "flu_df.info"
   ]
  },
  {
   "cell_type": "code",
   "execution_count": 18,
   "metadata": {},
   "outputs": [
    {
     "data": {
      "application/vnd.microsoft.datawrangler.viewer.v0+json": {
       "columns": [
        {
         "name": "index",
         "rawType": "object",
         "type": "string"
        },
        {
         "name": "0",
         "rawType": "int64",
         "type": "integer"
        }
       ],
       "ref": "746f117f-4ced-48cf-bbe1-195179793022",
       "rows": [
        [
         "respondent_id",
         "0"
        ],
        [
         "h1n1_concern",
         "92"
        ],
        [
         "h1n1_knowledge",
         "116"
        ],
        [
         "behavioral_antiviral_meds",
         "71"
        ],
        [
         "behavioral_avoidance",
         "208"
        ],
        [
         "behavioral_face_mask",
         "19"
        ],
        [
         "behavioral_wash_hands",
         "42"
        ],
        [
         "behavioral_large_gatherings",
         "87"
        ],
        [
         "behavioral_outside_home",
         "82"
        ],
        [
         "behavioral_touch_face",
         "128"
        ],
        [
         "doctor_recc_h1n1",
         "2160"
        ],
        [
         "doctor_recc_seasonal",
         "2160"
        ],
        [
         "chronic_med_condition",
         "971"
        ],
        [
         "child_under_6_months",
         "820"
        ],
        [
         "health_worker",
         "804"
        ],
        [
         "health_insurance",
         "12274"
        ],
        [
         "opinion_h1n1_vacc_effective",
         "391"
        ],
        [
         "opinion_h1n1_risk",
         "388"
        ],
        [
         "opinion_h1n1_sick_from_vacc",
         "395"
        ],
        [
         "opinion_seas_vacc_effective",
         "462"
        ],
        [
         "opinion_seas_risk",
         "514"
        ],
        [
         "opinion_seas_sick_from_vacc",
         "537"
        ],
        [
         "age_group",
         "0"
        ],
        [
         "education",
         "1407"
        ],
        [
         "race",
         "0"
        ],
        [
         "sex",
         "0"
        ],
        [
         "income_poverty",
         "4423"
        ],
        [
         "marital_status",
         "1408"
        ],
        [
         "rent_or_own",
         "2042"
        ],
        [
         "employment_status",
         "1463"
        ],
        [
         "hhs_geo_region",
         "0"
        ],
        [
         "census_msa",
         "0"
        ],
        [
         "household_adults",
         "249"
        ],
        [
         "household_children",
         "249"
        ],
        [
         "employment_industry",
         "13330"
        ],
        [
         "employment_occupation",
         "13470"
        ]
       ],
       "shape": {
        "columns": 1,
        "rows": 36
       }
      },
      "text/plain": [
       "respondent_id                      0\n",
       "h1n1_concern                      92\n",
       "h1n1_knowledge                   116\n",
       "behavioral_antiviral_meds         71\n",
       "behavioral_avoidance             208\n",
       "behavioral_face_mask              19\n",
       "behavioral_wash_hands             42\n",
       "behavioral_large_gatherings       87\n",
       "behavioral_outside_home           82\n",
       "behavioral_touch_face            128\n",
       "doctor_recc_h1n1                2160\n",
       "doctor_recc_seasonal            2160\n",
       "chronic_med_condition            971\n",
       "child_under_6_months             820\n",
       "health_worker                    804\n",
       "health_insurance               12274\n",
       "opinion_h1n1_vacc_effective      391\n",
       "opinion_h1n1_risk                388\n",
       "opinion_h1n1_sick_from_vacc      395\n",
       "opinion_seas_vacc_effective      462\n",
       "opinion_seas_risk                514\n",
       "opinion_seas_sick_from_vacc      537\n",
       "age_group                          0\n",
       "education                       1407\n",
       "race                               0\n",
       "sex                                0\n",
       "income_poverty                  4423\n",
       "marital_status                  1408\n",
       "rent_or_own                     2042\n",
       "employment_status               1463\n",
       "hhs_geo_region                     0\n",
       "census_msa                         0\n",
       "household_adults                 249\n",
       "household_children               249\n",
       "employment_industry            13330\n",
       "employment_occupation          13470\n",
       "dtype: int64"
      ]
     },
     "execution_count": 18,
     "metadata": {},
     "output_type": "execute_result"
    }
   ],
   "source": [
    "flu_df.isnull().sum()\n"
   ]
  },
  {
   "cell_type": "code",
   "execution_count": 14,
   "metadata": {},
   "outputs": [],
   "source": [
    "cat = flu_df.select_dtypes(include=['object', 'category'])"
   ]
  }
 ],
 "metadata": {
  "kernelspec": {
   "display_name": ".venv",
   "language": "python",
   "name": "python3"
  },
  "language_info": {
   "codemirror_mode": {
    "name": "ipython",
    "version": 3
   },
   "file_extension": ".py",
   "mimetype": "text/x-python",
   "name": "python",
   "nbconvert_exporter": "python",
   "pygments_lexer": "ipython3",
   "version": "3.10.5"
  }
 },
 "nbformat": 4,
 "nbformat_minor": 2
}
